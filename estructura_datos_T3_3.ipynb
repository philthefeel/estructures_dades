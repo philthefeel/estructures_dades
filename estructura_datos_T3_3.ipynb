{
  "nbformat": 4,
  "nbformat_minor": 0,
  "metadata": {
    "colab": {
      "name": "Untitled0.ipynb",
      "provenance": [],
      "authorship_tag": "ABX9TyONyamv4PE6hU4zfE9tgqht",
      "include_colab_link": true
    },
    "kernelspec": {
      "name": "python3",
      "display_name": "Python 3"
    },
    "language_info": {
      "name": "python"
    }
  },
  "cells": [
    {
      "cell_type": "markdown",
      "metadata": {
        "id": "view-in-github",
        "colab_type": "text"
      },
      "source": [
        "<a href=\"https://colab.research.google.com/github/philthefeel/estructures_dades/blob/main/estructura_datos_T3_3.ipynb\" target=\"_parent\"><img src=\"https://colab.research.google.com/assets/colab-badge.svg\" alt=\"Open In Colab\"/></a>"
      ]
    },
    {
      "cell_type": "markdown",
      "metadata": {
        "id": "yHg1vXwRYnhp"
      },
      "source": [
        "# Exercici 1\n",
        "\n",
        "L'exercici consisteix a crear un programa que et classifiqui una variable numèrica en funció de l’escala Suspès/Aprovat/Notable/Excel·lent.\n",
        "\n"
      ]
    },
    {
      "cell_type": "code",
      "metadata": {
        "id": "URHLQMgoYpV0"
      },
      "source": [
        "def clasificador(nota_num = False):\n",
        "    \"Classificador de nota\"\n",
        "    while not nota_num:\n",
        "        try:\n",
        "            nota_num = float(input(\"Introduce nota numérica de 0 a 10:\"))\n",
        "        except ValueError:\n",
        "            print(\"Valor no numerico. Por favor, introduce valor numérico de 0 a 10\")\n",
        "            continue\n",
        "    try:\n",
        "        nota_num = float(nota_num)\n",
        "        print(\"Nota introducida: \" + str(nota_num))\n",
        "        if nota_num < 5:\n",
        "            print(\"Suspès\")\n",
        "        elif nota_num >= 5 and nota_num <= 6:\n",
        "            print(\"Aprovat\")\n",
        "        elif nota_num >= 7 and nota_num < 8:\n",
        "            print(\"Notable\")\n",
        "        elif nota_num >= 9 and nota_num <= 10:\n",
        "            print(\"Excel·len!\")\n",
        "        else: \n",
        "            print(\"Por favor, introduce valor numérico de 0 a 10!\")\n",
        "    except ValueError:\n",
        "        print(\"Valor no numerico. Por favor, introduce valor numérico de 0 a 10\")\n",
        "        pass"
      ],
      "execution_count": 2,
      "outputs": []
    },
    {
      "cell_type": "code",
      "metadata": {
        "colab": {
          "base_uri": "https://localhost:8080/"
        },
        "id": "JKzdqb8KY4f7",
        "outputId": "f849d55d-9cf4-4462-c967-e51e78dfb6da"
      },
      "source": [
        "clasificador(13)\n",
        "clasificador(\"5\")\n",
        "clasificador(9)\n",
        "clasificador(\"X\")\n",
        "clasificador() # Si no se introduce valor, se pide al ejecutarse linea de código\n",
        "# Ejemplos: 13, \"5\", 9, \"Texto\""
      ],
      "execution_count": 3,
      "outputs": [
        {
          "output_type": "stream",
          "name": "stdout",
          "text": [
            "Nota introducida: 13.0\n",
            "Por favor, introduce valor numérico de 0 a 10!\n",
            "Nota introducida: 5.0\n",
            "Aprovat\n",
            "Nota introducida: 9.0\n",
            "Excel·len!\n",
            "Valor no numerico. Por favor, introduce valor numérico de 0 a 10\n",
            "Introduce nota numérica de 0 a 10:3\n",
            "Nota introducida: 3.0\n",
            "Suspès\n"
          ]
        }
      ]
    },
    {
      "cell_type": "markdown",
      "metadata": {
        "id": "6lzztgnrYiNW"
      },
      "source": [
        "# Exercici 2\n",
        "\n",
        "Utilitzant el següent tutorial Programiz: Python Input, Output and Import crea un programa que et pregunti dos números. T’ha de mostrar un missatge dient si el primer és més gran, el segon és més gran o són iguals.\n",
        "\n"
      ]
    },
    {
      "cell_type": "code",
      "metadata": {
        "id": "PE6tTWoHYdOY"
      },
      "source": [
        "def comparador(num1 = False, num2 = False):\n",
        "    num1 = False\n",
        "    num2 = False\n",
        "    while not num1:\n",
        "        try:\n",
        "            num1 = float(input(\"Introduce primer número a comparar: \"))\n",
        "        except ValueError:\n",
        "            print(\"Introduce sólo números!\")\n",
        "            continue\n",
        "    while not num2:\n",
        "        try:\n",
        "            num2 = float(input(\"Introduce segundo número a comparar: \"))\n",
        "        except ValueError:\n",
        "            print(\"Introduce sólo números!\")\n",
        "            continue\n",
        "            \n",
        "    if num1 > num2:\n",
        "        print(str(num1) + \" MAYOR QUE \" + str(num2))\n",
        "    elif num1 < num2:\n",
        "        print(str(num1) + \" MENOR QUE \" + str(num2))\n",
        "    else:\n",
        "        print(str(num1) + \" IGUAL A\" + str(num2))\n"
      ],
      "execution_count": 4,
      "outputs": []
    },
    {
      "cell_type": "code",
      "metadata": {
        "colab": {
          "base_uri": "https://localhost:8080/"
        },
        "id": "NJEn0teUYeZu",
        "outputId": "9473b3fe-b6e2-4590-f98b-df2f4ad7f71b"
      },
      "source": [
        "comparador()\n"
      ],
      "execution_count": 5,
      "outputs": [
        {
          "output_type": "stream",
          "name": "stdout",
          "text": [
            "Introduce primer número a comparar: 5\n",
            "Introduce segundo número a comparar: 40\n",
            "5.0 MENOR QUE40.0\n"
          ]
        }
      ]
    },
    {
      "cell_type": "markdown",
      "metadata": {
        "id": "F4akCiDUZc1s"
      },
      "source": [
        "# Exercici 3\n",
        "\n",
        "Crea un programa que et pregunti el teu nom, i et demani un número. Si el número és 0, hauria de mostrar un missatge d’error. En cas contrari, hauria de mostrar el nom repetit tants cops com indiqui el número. Per exemple, “Joan Joan Joan”."
      ]
    },
    {
      "cell_type": "code",
      "metadata": {
        "id": "mtLNHe1MYfLd"
      },
      "source": [
        "def repNom():\n",
        "  nom, num = input('Enter nom: '), input('Enter num: ')\n",
        "  if int(num) == 0:\n",
        "      resultat = \"ERROR 0: inserta valor mayor a 0\"\n",
        "  else:\n",
        "      nom = nom + \" \"\n",
        "      nom_repe = nom * int(num)\n",
        "  print(nom_repe)"
      ],
      "execution_count": 11,
      "outputs": []
    },
    {
      "cell_type": "code",
      "metadata": {
        "colab": {
          "base_uri": "https://localhost:8080/"
        },
        "id": "TCeoS0WmZ6ZU",
        "outputId": "eabac916-2b92-4577-d379-a636194230d5"
      },
      "source": [
        "repNom()"
      ],
      "execution_count": 13,
      "outputs": [
        {
          "output_type": "stream",
          "name": "stdout",
          "text": [
            "Enter nom: feli\n",
            "Enter num: 3\n",
            "feli feli feli \n"
          ]
        }
      ]
    },
    {
      "cell_type": "markdown",
      "metadata": {
        "id": "CWGCMhAUaixa"
      },
      "source": [
        "# Exercici 4\n",
        "Crea un programa que donada una llista qualsevol, et digui si es simètrica o no. Si ho és, que et digui quants elements té.\n"
      ]
    },
    {
      "cell_type": "code",
      "metadata": {
        "id": "vMvOpNOralbY"
      },
      "source": [
        "def checkListSymmetry(lista):\n",
        "    # Info sobre la lista\n",
        "    n = len(lista)  ; mitad = n//2\n",
        "    # la primera parte\n",
        "    l_1parte=lista[:mitad]\n",
        "    # Check si la lista es par o impar\n",
        "    if n%2: \n",
        "        l_2parte=lista[mitad+1:]\n",
        "    else:\n",
        "        l_2parte=lista[mitad:]\n",
        "    if l_1parte == l_2parte[::-1]:\n",
        "        print(\"LISTA SIMÉTRICA. CONTIENE {} ITEMS\".format(n))\n",
        "    else:\n",
        "        print(\"LISTA NO SIMÉTRICA\")"
      ],
      "execution_count": 18,
      "outputs": []
    },
    {
      "cell_type": "code",
      "metadata": {
        "colab": {
          "base_uri": "https://localhost:8080/"
        },
        "id": "e35nTRjFcZaF",
        "outputId": "4e71c9a3-85c5-4843-ab3b-80c60a28fcd5"
      },
      "source": [
        "LISTA = [\"a\", \"e\", \"a\"]\n",
        "checkListSymmetry(LISTA)\n",
        "LISTA = [\"a\", \"e\", \"i\"]\n",
        "checkListSymmetry(LISTA)"
      ],
      "execution_count": 21,
      "outputs": [
        {
          "output_type": "stream",
          "name": "stdout",
          "text": [
            "LISTA SIMÉTRICA. CONTIENE 3 ITEMS\n",
            "LISTA NO SIMÉTRICA\n"
          ]
        }
      ]
    },
    {
      "cell_type": "code",
      "metadata": {
        "colab": {
          "base_uri": "https://localhost:8080/"
        },
        "id": "-4-ZV3LIczvT",
        "outputId": "3d30a97c-72ff-447f-b7e8-8ea440360ea8"
      },
      "source": [
        "def checkRightPosi(lista):\n",
        "    for i in range(len(lista)):\n",
        "        if i == lista[i]:\n",
        "            print(\"{} ESTÁ EN SU POSICIÓN CORRECTA {}. EMPEZANDO POR 0\".format(lista[i], i) )"
      ],
      "execution_count": 23,
      "outputs": [
        {
          "output_type": "stream",
          "name": "stdout",
          "text": [
            "2 ESTÁ EN SU POSICIÓN CORRECTA 2. EMPEZANDO POR 0\n",
            "6 ESTÁ EN SU POSICIÓN CORRECTA 6. EMPEZANDO POR 0\n"
          ]
        }
      ]
    },
    {
      "cell_type": "code",
      "metadata": {
        "colab": {
          "base_uri": "https://localhost:8080/"
        },
        "id": "I8ZxQfVudq0h",
        "outputId": "be5fd03d-7af9-434a-cb6d-2ec291594052"
      },
      "source": [
        "checkRightPosi([3,4,2,0,2,3,6])"
      ],
      "execution_count": 24,
      "outputs": [
        {
          "output_type": "stream",
          "name": "stdout",
          "text": [
            "2 ESTÁ EN SU POSICIÓN CORRECTA 2. EMPEZANDO POR 0\n",
            "6 ESTÁ EN SU POSICIÓN CORRECTA 6. EMPEZANDO POR 0\n"
          ]
        }
      ]
    }
  ]
}