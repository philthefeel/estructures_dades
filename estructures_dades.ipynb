{
 "cells": [
  {
   "cell_type": "markdown",
   "id": "59dba89a",
   "metadata": {},
   "source": [
    "# Sprint 03: Estructura de dades"
   ]
  },
  {
   "cell_type": "markdown",
   "id": "3aee89ac",
   "metadata": {},
   "source": [
    "## Exercici 1"
   ]
  },
  {
   "cell_type": "code",
   "execution_count": 2,
   "id": "c12b0265",
   "metadata": {},
   "outputs": [
    {
     "name": "stdout",
     "output_type": "stream",
     "text": [
      "[['Gener', 'Febrer', 'Març'], ['Abril', 'Maig', 'Juny'], ['Juliol', 'Agost', 'Setembre'], ['Octubre', 'Novembre', 'Desembre']]\n"
     ]
    }
   ],
   "source": [
    "import numpy as np\n",
    "import random\n",
    "\n",
    "# Creating a nested lists\n",
    "\n",
    "trimestres = list()\n",
    "t1 = [\"Gener\", \"Febrer\", \"Març\"]\n",
    "t2 = [\"Abril\", \"Maig\", \"Juny\"]\n",
    "t3 = [\"Juliol\", \"Agost\", \"Setembre\"]\n",
    "t4 = [\"Octubre\", \"Novembre\", \"Desembre\"]\n",
    "\n",
    "trimestres = [t1, t2, t3, t4]\n",
    "print(trimestres)"
   ]
  },
  {
   "cell_type": "markdown",
   "id": "6ede928f",
   "metadata": {},
   "source": [
    "## Exercici 2"
   ]
  },
  {
   "cell_type": "code",
   "execution_count": 3,
   "id": "9fff2f62",
   "metadata": {},
   "outputs": [
    {
     "name": "stdout",
     "output_type": "stream",
     "text": [
      "Febrer\n",
      "['Gener', 'Febrer', 'Març']\n",
      "Setembre i Octubre\n"
     ]
    }
   ],
   "source": [
    "print(trimestres[0][1]) # El segon mes del primer trimestre\n",
    "print(trimestres[0]) # Els mesos del primer trimestre\n",
    "print(trimestres[2][2], \"i\", trimestres[3][0]) # Setembre i octubre"
   ]
  },
  {
   "cell_type": "markdown",
   "id": "b28cda3e",
   "metadata": {},
   "source": [
    "## Exercici 3"
   ]
  },
  {
   "cell_type": "code",
   "execution_count": 4,
   "id": "1b59a9ec",
   "metadata": {},
   "outputs": [
    {
     "name": "stdout",
     "output_type": "stream",
     "text": [
      "Numbers count:  20\n"
     ]
    }
   ],
   "source": [
    "Unordered_list = random.choices(list(range(200)),k =20) # List\n",
    "Unordered_set = set(Unordered_list) # Unordered list\n",
    "print(\"Numbers count: \",len(Unordered_set))"
   ]
  },
  {
   "cell_type": "code",
   "execution_count": 5,
   "id": "6364cf28",
   "metadata": {},
   "outputs": [
    {
     "name": "stdout",
     "output_type": "stream",
     "text": [
      "Ocurrences of number 3:  0\n"
     ]
    }
   ],
   "source": [
    "print(\"Ocurrences of number 3: \",Unordered_list.count(3))"
   ]
  },
  {
   "cell_type": "code",
   "execution_count": 6,
   "id": "ce8c8331",
   "metadata": {},
   "outputs": [
    {
     "name": "stdout",
     "output_type": "stream",
     "text": [
      "Ocurrences of value in position 3:  1\n",
      "Ocurrences of value in position 4:  1\n",
      "Higher number:  192\n",
      "The 3 smallers numbers are:  [ 0 11 15]\n",
      "The range of the list is: [ 0 , 192 ]\n"
     ]
    }
   ],
   "source": [
    "print(\"Ocurrences of value in position 3: \",Unordered_list.count(Unordered_list[2]))\n",
    "print(\"Ocurrences of value in position 4: \",Unordered_list.count(Unordered_list[3]))\n",
    "print(\"Higher number: \",max(Unordered_list))\n",
    "Ordered_list = Unordered_list.copy()\n",
    "Ordered_list.sort()\n",
    "print(\"The 3 smallers numbers are: \", np.unique(Ordered_list)[:3])\n",
    "print(\"The range of the list is: [\", min(Unordered_list),\",\", max(Unordered_list), \"]\")"
   ]
  },
  {
   "cell_type": "markdown",
   "id": "ea9ab5c6",
   "metadata": {},
   "source": [
    "## Exercici 4"
   ]
  },
  {
   "cell_type": "code",
   "execution_count": 7,
   "id": "f87c202d",
   "metadata": {},
   "outputs": [],
   "source": [
    "compra = { \"Pomes\" : {\"Qty\": 5, \"€\": 0.42}, \"Peres\" : {\"Qty\": 3, \"€\": 0.66} }"
   ]
  },
  {
   "cell_type": "code",
   "execution_count": 8,
   "id": "4847877a",
   "metadata": {},
   "outputs": [],
   "source": [
    "compra[\"Maduixa\"] = {\"Qty\": 7, \"€\": 0.99} # Adding a new nested dict"
   ]
  },
  {
   "cell_type": "code",
   "execution_count": 9,
   "id": "0f1eb864",
   "metadata": {},
   "outputs": [
    {
     "name": "stdout",
     "output_type": "stream",
     "text": [
      "Total price of \"Peres\" : 1.98\n",
      "Total number of fruits bought : 15\n",
      "The most expensive fruit is : Maduixa\n"
     ]
    }
   ],
   "source": [
    "print(\"Total price of \\\"Peres\\\" :\",compra[\"Peres\"][\"Qty\"]* compra[\"Peres\"][\"€\"])\n",
    "a = 0\n",
    "for k,v in compra.items():\n",
    "    a += v[\"Qty\"]\n",
    "print(\"Total number of fruits bought :\", a)\n",
    "b = 0\n",
    "c = \"none\"\n",
    "for k,v in compra.items():\n",
    "    if v[\"€\"] > b:\n",
    "        b = v[\"€\"]\n",
    "        c = k\n",
    "print(\"The most expensive fruit is :\", c)"
   ]
  }
 ],
 "metadata": {
  "kernelspec": {
   "display_name": "Python 3",
   "language": "python",
   "name": "python3"
  },
  "language_info": {
   "codemirror_mode": {
    "name": "ipython",
    "version": 3
   },
   "file_extension": ".py",
   "mimetype": "text/x-python",
   "name": "python",
   "nbconvert_exporter": "python",
   "pygments_lexer": "ipython3",
   "version": "3.6.13"
  }
 },
 "nbformat": 4,
 "nbformat_minor": 5
}
