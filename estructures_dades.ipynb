{
  "nbformat": 4,
  "nbformat_minor": 5,
  "metadata": {
    "kernelspec": {
      "display_name": "Python 3",
      "language": "python",
      "name": "python3"
    },
    "language_info": {
      "codemirror_mode": {
        "name": "ipython",
        "version": 3
      },
      "file_extension": ".py",
      "mimetype": "text/x-python",
      "name": "python",
      "nbconvert_exporter": "python",
      "pygments_lexer": "ipython3",
      "version": "3.6.13"
    },
    "colab": {
      "name": "estructures_dades.ipynb",
      "provenance": [],
      "include_colab_link": true
    }
  },
  "cells": [
    {
      "cell_type": "markdown",
      "metadata": {
        "id": "view-in-github",
        "colab_type": "text"
      },
      "source": [
        "<a href=\"https://colab.research.google.com/github/philthefeel/estructures_dades/blob/main/estructures_dades.ipynb\" target=\"_parent\"><img src=\"https://colab.research.google.com/assets/colab-badge.svg\" alt=\"Open In Colab\"/></a>"
      ]
    },
    {
      "cell_type": "markdown",
      "metadata": {
        "id": "59dba89a"
      },
      "source": [
        "# Sprint 03: Estructura de dades"
      ],
      "id": "59dba89a"
    },
    {
      "cell_type": "markdown",
      "metadata": {
        "id": "3aee89ac"
      },
      "source": [
        "## Exercici 1"
      ],
      "id": "3aee89ac"
    },
    {
      "cell_type": "code",
      "metadata": {
        "colab": {
          "base_uri": "https://localhost:8080/"
        },
        "id": "c12b0265",
        "outputId": "d81a36a1-a007-478c-a700-4a8716d3c08d"
      },
      "source": [
        "import numpy as np\n",
        "import random\n",
        "\n",
        "# Creating a nested lists\n",
        "\n",
        "trimestres = list()\n",
        "t1 = [\"Gener\", \"Febrer\", \"Març\"]\n",
        "t2 = [\"Abril\", \"Maig\", \"Juny\"]\n",
        "t3 = [\"Juliol\", \"Agost\", \"Setembre\"]\n",
        "t4 = [\"Octubre\", \"Novembre\", \"Desembre\"]\n",
        "\n",
        "trimestres = [t1, t2, t3, t4]\n",
        "print(trimestres)"
      ],
      "id": "c12b0265",
      "execution_count": 1,
      "outputs": [
        {
          "output_type": "stream",
          "name": "stdout",
          "text": [
            "[['Gener', 'Febrer', 'Març'], ['Abril', 'Maig', 'Juny'], ['Juliol', 'Agost', 'Setembre'], ['Octubre', 'Novembre', 'Desembre']]\n"
          ]
        }
      ]
    },
    {
      "cell_type": "markdown",
      "metadata": {
        "id": "6ede928f"
      },
      "source": [
        "## Exercici 2"
      ],
      "id": "6ede928f"
    },
    {
      "cell_type": "code",
      "metadata": {
        "colab": {
          "base_uri": "https://localhost:8080/"
        },
        "id": "9fff2f62",
        "outputId": "b614f016-7aef-40bf-8fd0-365d9712ee38"
      },
      "source": [
        "# El segon mes del primer trimestre\n",
        "print(trimestres[0][1])\n",
        "# Els mesos del primer trimestre\n",
        "print(trimestres[0]) \n",
        "# Setembre i octubre\n",
        "print(trimestres[2][2], \"i\", trimestres[3][0]) "
      ],
      "id": "9fff2f62",
      "execution_count": null,
      "outputs": [
        {
          "output_type": "stream",
          "name": "stdout",
          "text": [
            "Febrer\n",
            "['Gener', 'Febrer', 'Març']\n",
            "Setembre i Octubre\n"
          ]
        }
      ]
    },
    {
      "cell_type": "markdown",
      "metadata": {
        "id": "b28cda3e"
      },
      "source": [
        "## Exercici 3"
      ],
      "id": "b28cda3e"
    },
    {
      "cell_type": "code",
      "metadata": {
        "colab": {
          "base_uri": "https://localhost:8080/"
        },
        "id": "1b59a9ec",
        "outputId": "5da36053-d77c-4f9d-d472-5e65fc30457c"
      },
      "source": [
        "# Crea una llista amb nombres desordenats\n",
        "Unordered_list = random.choices(list(range(15)),k =20) # List\n",
        "print(Unordered_list)\n",
        "# Quants números hi ha?\n",
        "print(\"Numbers count: \",len(Unordered_list))"
      ],
      "id": "1b59a9ec",
      "execution_count": 7,
      "outputs": [
        {
          "output_type": "stream",
          "name": "stdout",
          "text": [
            "[1, 11, 7, 11, 6, 1, 5, 5, 10, 10, 13, 2, 11, 3, 10, 14, 11, 1, 9, 5]\n",
            "Numbers count:  20\n"
          ]
        }
      ]
    },
    {
      "cell_type": "code",
      "metadata": {
        "colab": {
          "base_uri": "https://localhost:8080/"
        },
        "id": "ce8c8331",
        "outputId": "35baded8-6e6a-4fe0-e534-6c8c4b4e78bb"
      },
      "source": [
        "# Quantes vegades apareix el número 3\n",
        "print(\"Ocurrences of number 3: \",Unordered_list.count(3))\n",
        "# Quantes vegades apareix el número 3 i 4\n",
        "print(\"Ocurrences of number 3 i 4: \",Unordered_list.count(3) + Unordered_list.count(4))\n",
        "# Quin és el número més gran?\n",
        "print(\"Higher number: \",max(Unordered_list))\n",
        "Ordered_list = Unordered_list.copy()\n",
        "Ordered_list.sort()\n",
        "# Quins són els 3 números més petits?\n",
        "print(\"The 3 smaller numbers are: \", np.unique(Ordered_list)[:3])\n",
        "# Quin és el rang d’aquesta llista?\n",
        "print(\"The range of the list is: [\", min(Unordered_list),\",\", max(Unordered_list), \"]\")"
      ],
      "id": "ce8c8331",
      "execution_count": 8,
      "outputs": [
        {
          "output_type": "stream",
          "name": "stdout",
          "text": [
            "Ocurrences of number 3:  1\n",
            "Ocurrences of number 3 i 4:  1\n",
            "Higher number:  14\n",
            "The 3 smaller numbers are:  [1 2 3]\n",
            "The range of the list is: [ 1 , 14 ]\n"
          ]
        }
      ]
    },
    {
      "cell_type": "markdown",
      "metadata": {
        "id": "ea9ab5c6"
      },
      "source": [
        "## Exercici 4"
      ],
      "id": "ea9ab5c6"
    },
    {
      "cell_type": "code",
      "metadata": {
        "id": "f87c202d"
      },
      "source": [
        "# Crea un diccionari \n",
        "compra = { \"Pomes\" : {\"Qty\": 5,\n",
        "                      \"€\": 0.42},\n",
        "           \"Peres\" : {\"Qty\": 3,\n",
        "                      \"€\": 0.66} }"
      ],
      "id": "f87c202d",
      "execution_count": 11,
      "outputs": []
    },
    {
      "cell_type": "code",
      "metadata": {
        "colab": {
          "base_uri": "https://localhost:8080/",
          "height": 54
        },
        "id": "4847877a",
        "outputId": "0dd17589-e6dc-4e25-964e-2d486cad72a2"
      },
      "source": [
        "# Afegeix alguna fruita més\n",
        "compra[\"Maduixa\"] = {\"Qty\": 7,\n",
        "                     \"€\": 0.99} \n",
        "\n",
        "''' Also through \"update\" method:\n",
        "compra.update({\"Maduixa\" : {\"Qty\": 7,\n",
        "                            \"€\": 0.99}})'''"
      ],
      "id": "4847877a",
      "execution_count": 12,
      "outputs": [
        {
          "output_type": "execute_result",
          "data": {
            "application/vnd.google.colaboratory.intrinsic+json": {
              "type": "string"
            },
            "text/plain": [
              "' Also through \"update\" method:\\ncompra.update({\"Maduixa\" : {\"Qty\": 7,\\n                            \"€\": 0.99}})'"
            ]
          },
          "metadata": {},
          "execution_count": 12
        }
      ]
    },
    {
      "cell_type": "code",
      "metadata": {
        "colab": {
          "base_uri": "https://localhost:8080/"
        },
        "id": "0f1eb864",
        "outputId": "1f9163ff-5129-4be4-edeb-2cf87d3ab16a"
      },
      "source": [
        "# Quant han costat les peres en total?\n",
        "print(\"Total price of \\\"Peres\\\" :\",\n",
        "      compra[\"Peres\"][\"Qty\"]* compra[\"Peres\"][\"€\"])\n"
      ],
      "id": "0f1eb864",
      "execution_count": null,
      "outputs": [
        {
          "output_type": "stream",
          "name": "stdout",
          "text": [
            "Total price of \"Peres\" : 1.98\n"
          ]
        }
      ]
    },
    {
      "cell_type": "code",
      "metadata": {
        "colab": {
          "base_uri": "https://localhost:8080/"
        },
        "id": "tCAq-On6ixkx",
        "outputId": "7f32943e-61aa-4a65-bc92-f5cef014e471"
      },
      "source": [
        "# Quantes fruites hem comprat en total?\n",
        "a = 0\n",
        "for k,v in compra.items():\n",
        "    a += v[\"Qty\"]\n",
        "print(\"Total number of fruits bought :\", a)"
      ],
      "id": "tCAq-On6ixkx",
      "execution_count": 13,
      "outputs": [
        {
          "output_type": "stream",
          "name": "stdout",
          "text": [
            "Total number of fruits bought : 15\n"
          ]
        }
      ]
    },
    {
      "cell_type": "code",
      "metadata": {
        "colab": {
          "base_uri": "https://localhost:8080/"
        },
        "id": "oh--jK6Citdj",
        "outputId": "2a9aee6b-8ba7-4c79-f337-9eaa72d284a2"
      },
      "source": [
        "# Quina és la fruita més cara?\n",
        "b = 0\n",
        "c = \"none\"\n",
        "for k,v in compra.items():\n",
        "    if v[\"€\"] > b:\n",
        "        b = v[\"€\"]\n",
        "        c = k\n",
        "print(\"The most expensive fruit is :\", c)"
      ],
      "id": "oh--jK6Citdj",
      "execution_count": 14,
      "outputs": [
        {
          "output_type": "stream",
          "name": "stdout",
          "text": [
            "The most expensive fruit is : Maduixa\n"
          ]
        }
      ]
    }
  ]
}